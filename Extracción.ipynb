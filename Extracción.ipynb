{
 "cells": [
  {
   "cell_type": "code",
   "execution_count": 1,
   "id": "4a881b5f-6baf-4b9f-9c84-d2e44f4fcb2b",
   "metadata": {},
   "outputs": [
    {
     "name": "stderr",
     "output_type": "stream",
     "text": [
      "[nltk_data] Downloading package punkt to\n",
      "[nltk_data]     /Users/oscarperez/nltk_data...\n",
      "[nltk_data]   Package punkt is already up-to-date!\n"
     ]
    },
    {
     "data": {
      "text/plain": [
       "True"
      ]
     },
     "execution_count": 1,
     "metadata": {},
     "output_type": "execute_result"
    }
   ],
   "source": [
    "import PyPDF2\n",
    "import nltk\n",
    "import csv\n",
    "import os\n",
    "nltk.download('punkt')"
   ]
  },
  {
   "cell_type": "code",
   "execution_count": 2,
   "id": "77c34f3b-5b89-4462-bb77-6f5cfac16078",
   "metadata": {},
   "outputs": [],
   "source": [
    "def extraer_oraciones(pdf_path, archivo_nombre):\n",
    "    oraciones = []\n",
    "    try:\n",
    "        with open(pdf_path, 'rb') as file:\n",
    "            reader = PyPDF2.PdfReader(file)\n",
    "            texto_completo = ''\n",
    "            \n",
    "            for pagina in reader.pages:\n",
    "                texto_pagina = pagina.extract_text()\n",
    "                if texto_pagina:\n",
    "                    texto_completo += texto_pagina + ' '\n",
    "            \n",
    "        # Tokenizar el texto completo en oraciones y agregar el nombre del archivo a cada oración\n",
    "        oraciones = [(nltk.tokenize.sent_tokenize(texto_completo), archivo_nombre)]\n",
    "    except Exception as e:\n",
    "        print(f\"No se pudo procesar el archivo {pdf_path}: {e}\")\n",
    "    return oraciones"
   ]
  },
  {
   "cell_type": "code",
   "execution_count": 3,
   "id": "1aa32beb-277d-4621-bac2-491691a8709f",
   "metadata": {},
   "outputs": [],
   "source": [
    "def procesar_carpeta_pdf(carpeta_pdf, txt_path):\n",
    "    oraciones_totales = []\n",
    "    \n",
    "    for archivo in os.listdir(carpeta_pdf):\n",
    "        if archivo.endswith('.pdf'):\n",
    "            pdf_path = os.path.join(carpeta_pdf, archivo)\n",
    "            oraciones = extraer_oraciones(pdf_path, archivo)  # Pasa el nombre del archivo como argumento adicional\n",
    "            oraciones_totales.extend(oraciones)\n",
    "    \n",
    "    guardar_oraciones_txt(oraciones_totales, txt_path)"
   ]
  },
  {
   "cell_type": "code",
   "execution_count": 4,
   "id": "c808b822-3d1c-43c0-86ad-b396f4eb4aad",
   "metadata": {},
   "outputs": [],
   "source": [
    "def guardar_oraciones_txt(oraciones, txt_path):\n",
    "    with open(txt_path, 'w', encoding='utf-8') as file:\n",
    "        for oracion, archivo_nombre in oraciones:\n",
    "            for o in oracion:\n",
    "                file.write(f\"{o}\\t{archivo_nombre}\\n\")"
   ]
  },
  {
   "cell_type": "code",
   "execution_count": 6,
   "id": "4b612128-87c0-4167-bcc1-20c4ef7e61f7",
   "metadata": {},
   "outputs": [],
   "source": [
    "carpeta_pdf = 'descarga_pdfs'\n",
    "txt_path = 'oraciones.txt'\n",
    "procesar_carpeta_pdf(carpeta_pdf, txt_path)"
   ]
  },
  {
   "cell_type": "code",
   "execution_count": null,
   "id": "f1c07297-1a73-414e-84db-0c4d479fa3bc",
   "metadata": {},
   "outputs": [],
   "source": []
  }
 ],
 "metadata": {
  "kernelspec": {
   "display_name": "Python 3 (ipykernel)",
   "language": "python",
   "name": "python3"
  },
  "language_info": {
   "codemirror_mode": {
    "name": "ipython",
    "version": 3
   },
   "file_extension": ".py",
   "mimetype": "text/x-python",
   "name": "python",
   "nbconvert_exporter": "python",
   "pygments_lexer": "ipython3",
   "version": "3.12.1"
  }
 },
 "nbformat": 4,
 "nbformat_minor": 5
}
